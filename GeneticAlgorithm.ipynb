{
 "cells": [
  {
   "cell_type": "code",
   "execution_count": 17,
   "metadata": {},
   "outputs": [],
   "source": [
    "import numpy as np\n",
    "import matplotlib as mpl\n",
    "import matplotlib.pyplot as plt"
   ]
  },
  {
   "cell_type": "code",
   "execution_count": 18,
   "metadata": {},
   "outputs": [],
   "source": [
    "def populate():\n",
    "    pop = [np.random.randint(0, 2, 20).tolist() for _ in range(10)]\n",
    "    return pop"
   ]
  },
  {
   "cell_type": "code",
   "execution_count": 19,
   "metadata": {},
   "outputs": [
    {
     "data": {
      "text/plain": [
       "[[1, 0, 0, 0, 0, 1, 1, 0, 1, 0, 1, 1, 0, 0, 1, 1, 1, 1, 1, 1],\n",
       " [1, 1, 1, 0, 1, 0, 1, 1, 1, 1, 0, 1, 0, 0, 1, 0, 1, 1, 1, 1],\n",
       " [0, 0, 0, 0, 0, 0, 1, 0, 1, 0, 1, 1, 0, 0, 0, 1, 1, 1, 1, 1],\n",
       " [0, 1, 1, 1, 1, 1, 1, 1, 0, 0, 0, 1, 1, 1, 1, 1, 1, 1, 1, 0],\n",
       " [1, 1, 0, 0, 1, 1, 0, 1, 1, 1, 1, 1, 1, 1, 1, 1, 1, 1, 1, 1],\n",
       " [1, 1, 1, 1, 1, 1, 1, 1, 1, 1, 1, 1, 1, 1, 1, 1, 1, 1, 1, 1],\n",
       " [1, 0, 0, 1, 0, 1, 0, 1, 0, 1, 1, 1, 1, 1, 1, 0, 1, 1, 1, 1],\n",
       " [1, 0, 1, 1, 1, 1, 0, 1, 1, 1, 1, 1, 1, 1, 1, 1, 0, 1, 1, 1],\n",
       " [1, 0, 0, 0, 1, 1, 1, 1, 0, 1, 1, 1, 1, 0, 1, 0, 1, 1, 0, 1],\n",
       " [1, 1, 1, 0, 1, 1, 0, 1, 0, 1, 1, 0, 1, 1, 1, 1, 1, 1, 1, 1]]"
      ]
     },
     "execution_count": 19,
     "metadata": {},
     "output_type": "execute_result"
    }
   ],
   "source": [
    "pop"
   ]
  },
  {
   "cell_type": "code",
   "execution_count": 20,
   "metadata": {},
   "outputs": [],
   "source": [
    "def mutate(pop):\n",
    "    for i in range(len(pop)):\n",
    "        row = pop[i]\n",
    "        index = np.random.randint(0, 20)\n",
    "        bit = row[index]\n",
    "        \n",
    "        if bit == 0:\n",
    "            row[index] = 1\n",
    "        elif bit ==1:\n",
    "            row[index] = 0\n",
    "               \n",
    "        pop[i] = row   \n",
    "        \n",
    "    return pop    \n"
   ]
  },
  {
   "cell_type": "code",
   "execution_count": 21,
   "metadata": {},
   "outputs": [
    {
     "data": {
      "text/plain": [
       "14"
      ]
     },
     "execution_count": 21,
     "metadata": {},
     "output_type": "execute_result"
    }
   ],
   "source": [
    "index = np.random.randint(5, 15)\n",
    "index"
   ]
  },
  {
   "cell_type": "code",
   "execution_count": 22,
   "metadata": {},
   "outputs": [],
   "source": [
    "def onepoint(pop):\n",
    "    \n",
    "    sortedpop = selection(pop)\n",
    "    i = 0\n",
    "    while i < len(pop):\n",
    "        index = np.random.randint(0, 20)#split point\n",
    "        parent1 = pop[sortedpop[i][1]]\n",
    "        parent2 = pop[sortedpop[i+1][1]]\n",
    "        \n",
    "        child1 = parent1[:index]+parent2[index:]\n",
    "        child2 = parent2[:index]+parent1[index:]\n",
    "        \n",
    "        if(fitness(child1)>fitness(parent1)):\n",
    "            pop[sortedpop[i][1]] = child1\n",
    "        if(fitness(child2)>fitness(parent2)):\n",
    "            pop[sortedpop[i+1][1]] = child2\n",
    "        \n",
    "        i = i+2\n",
    "        \n",
    "    return pop  "
   ]
  },
  {
   "cell_type": "code",
   "execution_count": 23,
   "metadata": {},
   "outputs": [
    {
     "data": {
      "text/plain": [
       "6"
      ]
     },
     "execution_count": 23,
     "metadata": {},
     "output_type": "execute_result"
    }
   ],
   "source": [
    "def selection(pop):\n",
    "    arr = [[0 for x in range(2)] for y in range(10)] \n",
    "    for i in range(len(pop)):\n",
    "        arr[i][0] = fitness(pop[i])\n",
    "        arr[i][1] = i #store index\n",
    "        \n",
    "        \n",
    "    arr.sort(reverse = True)\n",
    "    return arr\n",
    "\n",
    "arr2 = selection(pop)\n",
    "arr2[5][1]"
   ]
  },
  {
   "cell_type": "code",
   "execution_count": 120,
   "metadata": {},
   "outputs": [],
   "source": [
    "onepoint(pop)"
   ]
  },
  {
   "cell_type": "code",
   "execution_count": 24,
   "metadata": {},
   "outputs": [],
   "source": [
    "def fitness(row):\n",
    "    counter = 0\n",
    "    \n",
    "    \n",
    "    for j in range(len(row)): \n",
    "        if row[j] == 1:\n",
    "            counter = counter +1\n",
    "                \n",
    "    return counter\n",
    "    \n",
    "    "
   ]
  },
  {
   "cell_type": "code",
   "execution_count": 25,
   "metadata": {},
   "outputs": [
    {
     "data": {
      "text/plain": [
       "14.7"
      ]
     },
     "execution_count": 25,
     "metadata": {},
     "output_type": "execute_result"
    }
   ],
   "source": [
    "def avgfitness(pop):\n",
    "    avg = 0\n",
    "    for j in range(len(pop)):\n",
    "        avg = avg + fitness(pop[j])\n",
    "        \n",
    "    avg = avg/len(pop)   \n",
    "    return avg\n",
    "\n",
    "avgfitness(pop)"
   ]
  },
  {
   "cell_type": "code",
   "execution_count": 26,
   "metadata": {
    "scrolled": false
   },
   "outputs": [
    {
     "name": "stdout",
     "output_type": "stream",
     "text": [
      "[[0, 1, 0, 1, 0, 1, 1, 1, 1, 0, 1, 0, 1, 1, 1, 1, 0, 1, 1, 1], [0, 0, 0, 0, 0, 1, 0, 0, 1, 0, 1, 1, 1, 1, 1, 1, 1, 0, 1, 0], [1, 1, 0, 0, 1, 0, 1, 1, 0, 1, 0, 1, 1, 1, 0, 1, 1, 1, 1, 1], [1, 0, 1, 0, 1, 1, 1, 0, 1, 1, 0, 1, 1, 0, 1, 0, 1, 0, 1, 1], [1, 0, 1, 0, 0, 1, 0, 0, 1, 0, 0, 1, 1, 1, 1, 1, 1, 1, 1, 1], [1, 0, 0, 1, 0, 1, 0, 1, 1, 0, 0, 1, 1, 1, 1, 1, 1, 1, 1, 1], [0, 0, 0, 1, 1, 1, 1, 0, 1, 1, 0, 1, 1, 0, 1, 0, 1, 1, 1, 1], [0, 1, 1, 1, 0, 1, 0, 0, 1, 1, 1, 1, 1, 1, 1, 1, 0, 1, 1, 1], [0, 0, 0, 0, 0, 1, 1, 1, 1, 1, 1, 1, 1, 1, 1, 1, 0, 1, 1, 1], [1, 1, 1, 1, 1, 1, 1, 1, 1, 1, 1, 1, 1, 1, 1, 1, 1, 1, 1, 1]]\n"
     ]
    }
   ],
   "source": [
    "#10 generations \n",
    "average =[]\n",
    "pop = populate()\n",
    "\n",
    "for i in range(400):\n",
    "      \n",
    "    pop = onepoint(pop)\n",
    "    pop = mutate(pop)\n",
    "    average.append(avgfitness(pop))\n",
    "    \n",
    "    #check for max \n",
    "    beststring = best(pop)\n",
    "    if beststring == 20:\n",
    "        print(pop)\n",
    "        break\n",
    "      \n",
    "   "
   ]
  },
  {
   "cell_type": "code",
   "execution_count": 12,
   "metadata": {},
   "outputs": [
    {
     "data": {
      "text/plain": [
       "14"
      ]
     },
     "execution_count": 12,
     "metadata": {},
     "output_type": "execute_result"
    }
   ],
   "source": [
    "def best(pop):\n",
    "    best =0\n",
    "     \n",
    "    for i in range(len(pop)):\n",
    "        fitn = fitness(pop[i])\n",
    "        if fitn>best:\n",
    "            best = fitn\n",
    "            \n",
    "    return best  \n",
    "\n",
    "best(pop)           "
   ]
  },
  {
   "cell_type": "code",
   "execution_count": 224,
   "metadata": {},
   "outputs": [
    {
     "data": {
      "text/plain": [
       "[10.2, 10.2, 10.2, 10.2, 10.6, 11.0, 10.8, 10.6, 10.4, 10.2]"
      ]
     },
     "execution_count": 224,
     "metadata": {},
     "output_type": "execute_result"
    }
   ],
   "source": [
    "average"
   ]
  },
  {
   "cell_type": "code",
   "execution_count": 16,
   "metadata": {},
   "outputs": [
    {
     "data": {
      "text/plain": [
       "Text(0.5, 1.0, 'Average fitness after 173 generations')"
      ]
     },
     "execution_count": 16,
     "metadata": {},
     "output_type": "execute_result"
    },
    {
     "data": {
      "image/png": "[encoded data removed]",
      "text/plain": [
       "<Figure size 1080x720 with 1 Axes>"
      ]
     },
     "metadata": {
      "needs_background": "light"
     },
     "output_type": "display_data"
    }
   ],
   "source": [
    "length = list(range(172))\n",
    "plt.figure(figsize=(15,10))\n",
    "plt.plot(length,average,'o-',label=\"Fitness\",ms = 5)\n",
    "plt.title(\"Average fitness after 173 generations\")"
   ]
  },
  {
   "cell_type": "code",
   "execution_count": null,
   "metadata": {},
   "outputs": [],
   "source": [
    "target = 1010101010"
   ]
  }
 ],
 "metadata": {
  "kernelspec": {
   "display_name": "Python 3",
   "language": "python",
   "name": "python3"
  },
  "language_info": {
   "codemirror_mode": {
    "name": "ipython",
    "version": 3
   },
   "file_extension": ".py",
   "mimetype": "text/x-python",
   "name": "python",
   "nbconvert_exporter": "python",
   "pygments_lexer": "ipython3",
   "version": "3.8.5"
  }
 },
 "nbformat": 4,
 "nbformat_minor": 4
}
